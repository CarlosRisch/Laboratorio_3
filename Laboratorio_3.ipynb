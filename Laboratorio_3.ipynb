{
 "cells": [
  {
   "cell_type": "markdown",
   "id": "ee3df217-d167-4bb0-af12-ec62a618b01d",
   "metadata": {},
   "source": [
    "**Nombre:** Carlos Enrique Riscajché Vicente  \n",
    "**Curso:** Text Mining & Image Recognition   \n",
    "**Laboratorio # 3**    \n",
    "**Análisis y Predicción de Datos**"
   ]
  },
  {
   "cell_type": "markdown",
   "id": "30987e74-817b-4151-ad9d-9cf3b269060e",
   "metadata": {},
   "source": [
    "### Problema 1:\n",
    "#### Utilice expresiones regulares para validar las siguintes situaciones:"
   ]
  },
  {
   "cell_type": "markdown",
   "id": "1e57bf7a-ffcf-4c58-9cc7-6416087eaa86",
   "metadata": {},
   "source": [
    "#### 1. Implemente una regex para validar un correo electrónico en general, a continuación se muestran\n",
    "#### algunos ejemplos:\n",
    "* Guate.360-porelmundo@miguate.com\n",
    "* Miercoles3@hotmail.com\n",
    "* Progra3.galileo@galileo.edu"
   ]
  },
  {
   "cell_type": "code",
   "execution_count": 7,
   "id": "1e0dc57c-0079-4e95-89da-7e8a7f7a26f1",
   "metadata": {},
   "outputs": [
    {
     "name": "stdout",
     "output_type": "stream",
     "text": [
      "Guate.360-porelmundo@miguate.com-> Correo electrónico valido\n",
      "Miercoles3@hotmail.com-> Correo electrónico valido\n",
      "Progra3.galileo@galileo.edu-> Correo electrónico valido\n",
      "@carlos.riscajche@galileo.edu.-> Correo electrónico invalido\n"
     ]
    }
   ],
   "source": [
    "import re # librería que me sirve para trabajar con expresiones regulares\n",
    "\n",
    "# creo una función para validar el correo\n",
    "def validar_correo_electronico(correo):\n",
    "    expresion_regular = r'^[a-zA-Z0-9._%+-]+@[a-zA-Z0-9.-]+\\.[a-zA-Z]{2,}$'\n",
    "    return bool(re.match(expresion_regular, correo))\n",
    "\n",
    "# le paso lo correos de prueba en una lista\n",
    "correos_ejemplo = [\"Guate.360-porelmundo@miguate.com\",\"Miercoles3@hotmail.com\",\"Progra3.galileo@galileo.edu\", \"@carlos.riscajche@galileo.edu.\"]\n",
    "\n",
    "# Recorro la lista para validar\n",
    "for correo in correos_ejemplo:\n",
    "    resultado = validar_correo_electronico(correo)\n",
    "    if resultado:\n",
    "        print(f\"{correo}-> Correo electrónico valido\") # Si el correo cumple devolverá este mensaje\n",
    "    else:\n",
    "        print(f\"{correo}-> Correo electrónico invalido\") # si no cumple mostrará que el correo es invalido"
   ]
  },
  {
   "cell_type": "markdown",
   "id": "d7788173-4255-46a8-ad42-f8c6bd3d6119",
   "metadata": {},
   "source": [
    "#### 2. implemente una regex para validar la dirección url de una página web con los tipos de domino (.com, .org, .edu). Note que la url incluye el protocolo (http o https) y los símbolos (//www.),\n",
    "#### a continuación se muestran algunos ejemplos:\n",
    "* https://www.guate360-porelmundo.com\n",
    "* http://www.a2.net\n",
    "* https://www.galileo.edu\n",
    "* http://www.8.org (No valida)"
   ]
  },
  {
   "cell_type": "code",
   "execution_count": 13,
   "id": "1e9e7927-be25-4aec-aae0-b8fbedf0da53",
   "metadata": {},
   "outputs": [
    {
     "name": "stdout",
     "output_type": "stream",
     "text": [
      "https://www.guate360-porelmundo.com-> La dirección url es valida\n",
      "http://www.a2.net-> La dirección url es invalida\n",
      "https://www.galileo.edu-> La dirección url es valida\n",
      "http://www.8.org-> La dirección url es invalida\n"
     ]
    }
   ],
   "source": [
    "# creo una función para validar una dirección URL\n",
    "def validar_direccion_url(url):\n",
    "    expresion_regular = r'^https?://www\\.[a-zA-Z][a-zA-Z0-9-]*\\.(com|org|edu)$'\n",
    "    return bool(re.match(expresion_regular, url))\n",
    "\n",
    "# le paso las url's de prueba en una lista\n",
    "urls = [\"https://www.guate360-porelmundo.com\",\"http://www.a2.net\",\"https://www.galileo.edu\", \"http://www.8.org\"]\n",
    "\n",
    "# Recorro la lista para validar\n",
    "for url in urls:\n",
    "    resultado = validar_direccion_url(url)\n",
    "    if resultado:\n",
    "        print(f\"{url}-> La dirección url es valida\") # Si el correo cumple devolverá este mensaje\n",
    "    else:\n",
    "        print(f\"{url}-> La dirección url es invalida\") # si no cumple mostrará que el correo es invalido"
   ]
  },
  {
   "cell_type": "markdown",
   "id": "bff26226-0ba3-4cd6-b105-201facec0ffc",
   "metadata": {},
   "source": [
    "#### 3. Implemente una regex para validar una MAC Address, notar que las mac addres están divididas en 6 bloques de caracteres hexadecimales, es decir que los símbolos solo pueden variar del 0 al 9 y las letras de la A a la F. \n",
    "#### A continuación se muestran algunos ejemplos:\n",
    "* 5A 6F AF 8C 9B 1D\n",
    "* 6D 6C 4D 3A EB 3F\n",
    "* 3A 7C FA C8 6D 4J (no valida por que el ultimo bloque contiene una J)"
   ]
  },
  {
   "cell_type": "code",
   "execution_count": 18,
   "id": "1a920743-594e-4575-82bc-97316fc2f484",
   "metadata": {},
   "outputs": [
    {
     "name": "stdout",
     "output_type": "stream",
     "text": [
      "5A 6F AF 8C 9B 1D -> Dirección MAC valida\n",
      "6D 6C 4D 3A EB 3F -> Dirección MAC valida\n",
      "3A 7C FA C8 6D 4J -> Dirección MAC invalida\n"
     ]
    }
   ],
   "source": [
    "# creo una función para validar una dirección MAC\n",
    "def validar_mac_address(mac):\n",
    "    expresion_regular = r'^([0-9A-Fa-f]{2} ){5}([0-9A-Fa-f]{2})$'\n",
    "    return bool(re.match(expresion_regular, mac))\n",
    "\n",
    "# MAC's de prueba en el documento\n",
    "macs = [\"5A 6F AF 8C 9B 1D\",\"6D 6C 4D 3A EB 3F\",\"3A 7C FA C8 6D 4J\"]\n",
    "\n",
    "# Evaluación de cada MAC \n",
    "for mac in macs:\n",
    "    resultado = validar_mac_address(mac)\n",
    "    if resultado:\n",
    "        print(f\"{mac} -> Dirección MAC valida\")\n",
    "    else:\n",
    "        print(f\"{mac} -> Dirección MAC invalida\")\n"
   ]
  },
  {
   "cell_type": "markdown",
   "id": "a8cd392f-8b21-4d4e-9a0f-250ec5240a14",
   "metadata": {},
   "source": [
    "#### 4. Implemente una regex para validar una dirección IPv4, notar que las direcciones IPv4 están divididas en 4 bloques de valores los cuales solo pueden ir desde 0 hasta 255, una ip donde algunos de sus bloques sea mayor a 255 no es valida, además tome en cuenta que cada bloque está separada por un punto. \n",
    "#### A continuación se muestran algunos ejemplos:\n",
    "* 192.16.8.1\n",
    "* 234.56.78.90\n",
    "* 1.2.3.4\n",
    "* 192.168.45.345 (no valida por que el ultimo bloque es mayor a 255)"
   ]
  },
  {
   "cell_type": "code",
   "execution_count": 19,
   "id": "d5b9bcd7-48b7-4c64-a33f-dc56deee0705",
   "metadata": {},
   "outputs": [
    {
     "name": "stdout",
     "output_type": "stream",
     "text": [
      "192.16.8.1 -> Dirección IPv4 valida\n",
      "234.56.78.90 -> Dirección IPv4 valida\n",
      "1.2.3.4 -> Dirección IPv4 valida\n",
      "192.168.45.345 -> Dirección IPv4 invalida\n"
     ]
    }
   ],
   "source": [
    "# creo una función para validar una dirección IPv4\n",
    "def validar_ipv4(ip):\n",
    "    expresion_regular = r'^((25[0-5]|2[0-4][0-9]|[01]?[0-9][0-9]?)\\.){3}(25[0-5]|2[0-4][0-9]|[01]?[0-9][0-9]?)$'\n",
    "    return bool(re.match(expresion_regular, ip))\n",
    "\n",
    "# Lista de direcciones IPv4\n",
    "ips = [\"192.16.8.1\", \"234.56.78.90\", \"1.2.3.4\", \"192.168.45.345\"]\n",
    "\n",
    "# Evaluo cada dirección IP en la lista\n",
    "for ip in ips:\n",
    "    resultado = validar_ipv4(ip)\n",
    "    if resultado:\n",
    "        print(f\"{ip} -> Dirección IPv4 valida\")\n",
    "    else:\n",
    "        print(f\"{ip} -> Dirección IPv4 invalida\")\n"
   ]
  },
  {
   "cell_type": "markdown",
   "id": "47e808c2-1dbf-4aa1-9121-af15143ad3be",
   "metadata": {},
   "source": [
    "#### 5. Implemente una regex para validar una fecha con la secuencia día-mes-año donde el día, mes y año puedan estar separados ya sea por el caracter / o el caracter - o el caracter ., notar que las fechas son validas si los días estan definidos desde el 1 al 31, el mes del 1 al 12 y el año de 2000 al 2019. También debe tomar en cuenta que los días y meses pueden estar escritos ya sea con uno o dos caracteres por ejemplo: Enero puede escribirse como 1 o como 01. \n",
    "#### Los años también pueden expresarse ya sea con dos o con cuatro caracteres por ejemplo: 19 o 2019 son validos. A continuación se muestran algunos ejemplos:\n",
    "* 20/1/2019\n",
    "* 12.03.2005\n",
    "* 31-11-08\n",
    "* 1-1-2012\n",
    "* 12-12-22 (no valida, por que el año supera al 2019)."
   ]
  },
  {
   "cell_type": "code",
   "execution_count": 29,
   "id": "ad894924-8a23-4520-a155-e51459c3b0d7",
   "metadata": {},
   "outputs": [
    {
     "name": "stdout",
     "output_type": "stream",
     "text": [
      "20/1/2019 -> Fecha válida\n",
      "12.03.2005 -> Fecha válida\n",
      "31-11-08 -> Fecha inválida\n",
      "1-1-2012 -> Fecha válida\n",
      "12-12-22 -> Fecha inválida\n",
      "30-06-2014 -> Fecha válida\n",
      "32-02-2018 -> Fecha inválida\n"
     ]
    }
   ],
   "source": [
    "# creo una función para validar una fecha\n",
    "def validar_fecha(fecha):\n",
    "    expresion_regular = r'^(3[01]|[12][0-9]|0?[1-9])[\\/\\.\\-](1[0-2]|0?[1-9])[\\/\\.\\-](19|20(0[0-9]|1[0-9]))$'\n",
    "    return bool(re.match(expresion_regular, fecha))\n",
    "\n",
    "# Lista de fechas de prueba\n",
    "fechas = [\n",
    "    \"20/1/2019\",\n",
    "    \"12.03.2005\",\n",
    "    \"31-11-08\",  \n",
    "    \"1-1-2012\",   \n",
    "    \"12-12-22\",\n",
    "    \"30-06-2014\",\n",
    "    \"32-02-2018\"\n",
    "]\n",
    "\n",
    "# Evaluación de cada fecha en la lista\n",
    "for fecha in fechas:\n",
    "    resultado = validar_fecha(fecha)\n",
    "    if resultado:\n",
    "        print(f\"{fecha} -> Fecha válida\")\n",
    "    else:\n",
    "        print(f\"{fecha} -> Fecha inválida\")"
   ]
  },
  {
   "cell_type": "markdown",
   "id": "bb41a62c-4437-4955-9c5e-5310df8fa7c2",
   "metadata": {},
   "source": [
    "### Problema 2:\n",
    "#### En la carpeta encontrará adjuntos 21 documentos que tiene 100 fechas en la secuencia días-mes-año pero con distinto separador y distinto formato de mes, en algunos casos aparece un numero y en otros el nombre del mes en inglés, por ejemplo: Enero pueder aparecer como 1 o como Jan. Utilice Python y expresiones regulares para encontrar el día, mes y año promedio total del los 21 archivos, los resultados deben ser un double."
   ]
  },
  {
   "cell_type": "code",
   "execution_count": 47,
   "id": "c0786256-046b-4031-b931-25b0463fbb06",
   "metadata": {},
   "outputs": [
    {
     "name": "stdout",
     "output_type": "stream",
     "text": [
      "\n",
      "Una muestra de las fechas corregidas:\n",
      "23/02/2017\n",
      "21/11/2016\n",
      "12/02/2017\n",
      "06/06/2016\n",
      "04/05/2018\n",
      "19/12/2016\n",
      "02/04/2015\n",
      "20/06/2015\n",
      "11/09/2015\n",
      "05/09/2016\n",
      "31/10/2015\n",
      "24/12/2017\n",
      "04/11/2016\n",
      "13/04/2018\n",
      "12/01/2016\n",
      "\n",
      "Promedio del día: 15.624761904761904\n",
      "Promedio del mes: 6.4664761904761905\n",
      "Promedio del año: 2016.6869047619048\n"
     ]
    }
   ],
   "source": [
    "import numpy as np\n",
    "import re\n",
    "import os\n",
    "from pathlib import Path\n",
    "from datetime import datetime\n",
    "\n",
    "\n",
    "ruta = r'C:\\Users\\risca\\Desktop\\Maestria Ciencia de Datos\\Tercer Trimestre\\Text Mining & Image Recognition\\Tareas\\Lab3\\Lab3\\Datos'\n",
    "\n",
    "# extraigo los archivos\n",
    "extrae_archivos = list(Path(ruta).glob('*.*'))\n",
    "\n",
    "# creo un diccionario para mapear los nombres de los meses abreviados a números\n",
    "diccionario_meses = {\n",
    "    'Jan': '01', \n",
    "    'Feb': '02', \n",
    "    'Mar': '03', \n",
    "    'Apr': '04', \n",
    "    'May': '05', \n",
    "    'Jun': '06',\n",
    "    'Jul': '07', \n",
    "    'Aug': '08', \n",
    "    'Sep': '09', \n",
    "    'Oct': '10', \n",
    "    'Nov': '11', \n",
    "    'Dec': '12'\n",
    "}\n",
    "\n",
    "# Expresión regular\n",
    "fecha_regex = re.compile(\n",
    "    r'(\\d{1,2})[-/.](' + '|'.join(diccionario_meses.keys()) + r'|\\d{1,2})[-/.](\\d{2,4})'\n",
    ")\n",
    "\n",
    "# Función para normalizar las fechas\n",
    "def normaliza_fechas(dia, mes, anio):\n",
    "    if mes.isdigit():\n",
    "        mes = f\"{int(mes):02}\"\n",
    "    else:\n",
    "        mes = diccionario_meses[mes.capitalize()[:3]]\n",
    "    anio = f\"{2000 + int(anio):04}\" if len(anio) == 2 else anio\n",
    "    return f\"{int(dia):02}/{mes}/{anio}\"\n",
    "\n",
    "# itero para extraer y normalizar las fechas de todos los documentos\n",
    "fechas_completas = []\n",
    "for path_archivo in extrae_archivos:\n",
    "    with open(path_archivo, 'r', encoding='utf-8') as archivo:\n",
    "        content = archivo.read()\n",
    "        matches = fecha_regex.findall(content)\n",
    "        for match in matches:\n",
    "            fechas_normalizadas = normaliza_fechas(*match)\n",
    "            fechas_completas.append(fechas_normalizadas)\n",
    "            #print(fechas_completas) -> imprimo las fechas\n",
    "\n",
    "print(\"\\nUna muestra de las fechas corregidas:\")\n",
    "for i in range(15):\n",
    "    print(fechas_completas[i])\n",
    "\n",
    "fechas_dt = [datetime.strptime(fecha, '%d/%m/%Y') for fecha in fechas_completas]\n",
    "\n",
    "# Calcular promedios\n",
    "dias = [date.day for date in fechas_dt]\n",
    "meses = [date.month for date in fechas_dt]\n",
    "anios = [date.year for date in fechas_dt]\n",
    "promedio_dia = np.mean(dias)\n",
    "promedio_mes = np.mean(meses)\n",
    "promedio_anio = np.mean(anios)\n",
    "\n",
    "# Imprimir resultados\n",
    "print()\n",
    "print(\"Promedio del día:\", promedio_dia)\n",
    "print(\"Promedio del mes:\", promedio_mes)\n",
    "print(\"Promedio del año:\", promedio_anio)\n"
   ]
  },
  {
   "cell_type": "markdown",
   "id": "c29dfd9b-3baa-4438-ad52-e8a355bb523e",
   "metadata": {},
   "source": [
    "### Problema 3"
   ]
  },
  {
   "cell_type": "markdown",
   "id": "d4759660-53c7-4864-b0a4-3f677a121494",
   "metadata": {},
   "source": [
    "#### Descargue el Dataset (de click aquí para descargar) el cual contiene aproximadamente 800,000 tweets de diversos temas.\n",
    "#### Usando CoLab y expresiones regulares. Determine los 3 usuarios más populares dentro del dataset. Luego arme un corpus el cual contenga los siguientes elementos por cada usuario seleccionado:\n",
    "* Content: Tweet.\n",
    "* Metadata: ID, Timestamp, Length (este valor hay que calcularlo).\n",
    "\n",
    "#### Posterior a tener sus 3 corpus creados, responda: ¿Razón por la que citan a ese usuario? para esto es necesario que extraiga el contexto de cada tweet y verifique cuales son las palabras que más rodean al nombre de usuario. Para extraer un contexto valido y debido a la naturaleza del tipo de datos que están disponibles en nuestro dataset le recomendamos seguir los siguientes pasos:\n",
    "\n",
    "1. Remover stopwords.\n",
    "2. Realizar stemming y lemmatizaci´on.\n",
    "3. Mostrar un wordcloud con el top 10 para cada usuario."
   ]
  },
  {
   "cell_type": "markdown",
   "id": "d9b4ee7d-de1b-4b97-8b08-6eaa1bbb3031",
   "metadata": {},
   "source": [
    "[Ver el problema 3 en Google Colab](https://colab.research.google.com/drive/1DD19YQ3usyKuCnslrAH1sMrsGYty5RJ5?usp=sharing)\n"
   ]
  },
  {
   "cell_type": "code",
   "execution_count": 65,
   "id": "44c24ec3-6f4d-4875-8285-b27949acfe60",
   "metadata": {},
   "outputs": [
    {
     "name": "stdout",
     "output_type": "stream",
     "text": [
      "Reinitialized existing Git repository in C:/Users/risca/Desktop/Maestria Ciencia de Datos/Tercer Trimestre/Text Mining & Image Recognition/Tareas/Lab3/.git/\n"
     ]
    }
   ],
   "source": [
    "!git init"
   ]
  },
  {
   "cell_type": "code",
   "execution_count": 66,
   "id": "13edab54-ce13-4f63-84ee-e56b284dd765",
   "metadata": {},
   "outputs": [
    {
     "name": "stderr",
     "output_type": "stream",
     "text": [
      "warning: LF will be replaced by CRLF in Laboratorio_3.ipynb.\n",
      "The file will have its original line endings in your working directory\n"
     ]
    }
   ],
   "source": [
    "!git add Laboratorio_3.ipynb"
   ]
  },
  {
   "cell_type": "code",
   "execution_count": 67,
   "id": "fdb73864-b43c-4d3f-962b-070a6ed96fdf",
   "metadata": {},
   "outputs": [
    {
     "name": "stdout",
     "output_type": "stream",
     "text": [
      "[main c28f397] Commit del laboratorio #3 del curso de Text Mining & Image Recognition\n",
      " 1 file changed, 5 insertions(+), 6 deletions(-)\n"
     ]
    }
   ],
   "source": [
    "!git commit -m \"Commit del laboratorio #3 del curso de Text Mining & Image Recognition\""
   ]
  },
  {
   "cell_type": "code",
   "execution_count": 68,
   "id": "d1f2d7d4-9f71-492b-abbe-af549e2c767b",
   "metadata": {},
   "outputs": [],
   "source": [
    "!git branch -M main"
   ]
  },
  {
   "cell_type": "code",
   "execution_count": 69,
   "id": "42fc9463-fba1-46c9-81fd-d94759b5458f",
   "metadata": {},
   "outputs": [
    {
     "name": "stderr",
     "output_type": "stream",
     "text": [
      "error: remote origin already exists.\n"
     ]
    }
   ],
   "source": [
    "!git remote add origin https://github.com/CarlosRisch/Laboratorio_3.git"
   ]
  },
  {
   "cell_type": "code",
   "execution_count": 70,
   "id": "ec4dc9fc-120b-4733-bd68-275d7cb3e7c7",
   "metadata": {},
   "outputs": [
    {
     "name": "stderr",
     "output_type": "stream",
     "text": [
      "To https://github.com/CarlosRisch/Curso_Text_Mining_-_Image_Recognition.git\n",
      " ! [rejected]        main -> main (fetch first)\n",
      "error: failed to push some refs to 'https://github.com/CarlosRisch/Curso_Text_Mining_-_Image_Recognition.git'\n",
      "hint: Updates were rejected because the remote contains work that you do\n",
      "hint: not have locally. This is usually caused by another repository pushing\n",
      "hint: to the same ref. You may want to first integrate the remote changes\n",
      "hint: (e.g., 'git pull ...') before pushing again.\n",
      "hint: See the 'Note about fast-forwards' in 'git push --help' for details.\n"
     ]
    }
   ],
   "source": [
    "!git push -u origin main"
   ]
  }
 ],
 "metadata": {
  "kernelspec": {
   "display_name": "Python 3 (ipykernel)",
   "language": "python",
   "name": "python3"
  },
  "language_info": {
   "codemirror_mode": {
    "name": "ipython",
    "version": 3
   },
   "file_extension": ".py",
   "mimetype": "text/x-python",
   "name": "python",
   "nbconvert_exporter": "python",
   "pygments_lexer": "ipython3",
   "version": "3.8.19"
  }
 },
 "nbformat": 4,
 "nbformat_minor": 5
}
